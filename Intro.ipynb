{
 "cells": [
  {
   "cell_type": "markdown",
   "metadata": {
    "collapsed": false
   },
   "source": [
    "# Introduktion till IPython Notebook och Python"
   ]
  },
  {
   "cell_type": "markdown",
   "metadata": {},
   "source": [
    "Med IPython Notebook kan du kombinera text, formler och programmeringskod för att skapa interaktiva Python övningar. \n",
    "\n",
    "Texten formateras med så kallad Markdown-syntax. En kortversion av hur denna syntax fungerar finns på sidan [Markdown Cheatsheet](https://github.com/adam-p/markdown-here/wiki/Markdown-Cheatsheet).\n",
    "\n",
    "Matematiska formler skrivs med hjälp av LaTeX-syntax. En formel i löpande text (inline) skrivs mellan två \\$-tecken, och visas så här: $f(x) = x^2$. Om man innesluter formeln mellan dubbla \\$-tecken, hamnar den på den egen rad (display) \n",
    "\n",
    "$$\n",
    "f(x)=x^2\n",
    "$$\n",
    "\n",
    "När man skriver en IPython Notebook skriver man i så kallade _celler_. En cell kan antingen vara en Markdown-cell (text och formler) eller en kod-cell. För att formatera en Markdown-cell, eller exekvera koden i en kod-cell, klickar man på **shift+enter**.\n",
    "\n",
    "Om du dubbelklickar i denna cell kommer du att se den här texten oformaterad. Du kan ändra eller lägga till text. Klicka på shift-enter för att se texten formaterad.\n",
    "\n",
    "Det enklaste användningsområdet är att använda Python som en miniräknare. Dubbelklicka i cellen nedan och klicka på shift+enter för att beräkna uttrycket!"
   ]
  },
  {
   "cell_type": "code",
   "execution_count": null,
   "metadata": {
    "collapsed": false
   },
   "outputs": [],
   "source": [
    "4+3*5/2"
   ]
  },
  {
   "cell_type": "markdown",
   "metadata": {},
   "source": [
    "---\n",
    "\n",
    "### Övning 1\n",
    "\n",
    "Använd cellen nedan för att i tur och ordning beräkna följande uttryck. Använd parenteser då det behövs.\n",
    "\n",
    "1. $$\\frac{4.37 + 5}{103}$$\n",
    "2. $$\\frac{5.9\\cdot6.7}{3.4\\cdot8}$$\n",
    "\n",
    "Svaren skall bli\n",
    "\n",
    "1. `0.09097087378640778`\n",
    "2. `1.4533088235294118`\n"
   ]
  },
  {
   "cell_type": "code",
   "execution_count": null,
   "metadata": {
    "collapsed": false
   },
   "outputs": [],
   "source": []
  },
  {
   "cell_type": "markdown",
   "metadata": {},
   "source": [
    "## Variabler och tilldelningar"
   ]
  },
  {
   "cell_type": "markdown",
   "metadata": {},
   "source": [
    "Om man vill byta temperaturenhet från grader Celsius till Fahrenheit, kan man använda formeln\n",
    "\n",
    "$$\n",
    "F = \\frac{9}{5}C+32\n",
    "$$\n",
    "\n",
    "där $C$ är temperaturen i Celsius och $F$ samma temperatur i Fahrenheit. Dubbelklicka i cellen nedan, ändra värde på $C$ och ta reda på hur många Fahrenheit $37^\\circ C$ motsvarar. "
   ]
  },
  {
   "cell_type": "code",
   "execution_count": 1,
   "metadata": {
    "collapsed": false
   },
   "outputs": [
    {
     "name": "stdout",
     "output_type": "stream",
     "text": [
      "68.0\n"
     ]
    }
   ],
   "source": [
    "# Konvertera från Celsius till Fahrenheit\n",
    "C = 20\n",
    "F = 9/5*C +32 \n",
    "print(F)"
   ]
  },
  {
   "cell_type": "markdown",
   "metadata": {},
   "source": [
    "I cellen ovan är C och F så kallade _variabler_. På den första raden står en så kallad _kommentar_. Kommentarer exekveras inte utan är till för den som läser koden. På rad två och tre _tilldelas_ variablerna värden. Variabler som är definierade i en cell är globala och kan därför användas även i andra celler. När cellen ovan har exekverats, kommer C och F tilldelas värden som de sedan har tills de tilldelas nya värden i en annan cell. Notera att **ett** likhetstecken inte representerar en logisk likhet utan en tilldelning. Logisk likhet skrivs i Python med dubbla likhetstecken. \n",
    "\n",
    "Vid en tilldelning beräknas först det som står till höger om likhetstecknet. Den variabel som står till vänster om likhetstecknet tilldelas sedan detta värde. Det är därför möjligt att göra en tilldelning som på första raden i cellen nedan. Notera att om likhetstecknet vore en logisk likhet, vore det som stod på första raden inte sant."
   ]
  },
  {
   "cell_type": "code",
   "execution_count": null,
   "metadata": {
    "collapsed": false
   },
   "outputs": [],
   "source": [
    "C = C+1\n",
    "print(C)"
   ]
  },
  {
   "cell_type": "markdown",
   "metadata": {},
   "source": [
    "Kör koden i cellen ovan upprepade gånger och betrakta värdet på variabeln C."
   ]
  },
  {
   "cell_type": "markdown",
   "metadata": {},
   "source": [
    "---\n",
    "\n",
    "### Övning 2\n",
    "Lös ut $C$ ur konverteringsformeln och skriv kod som gör den omvända konverteringen. Givet en temperatur i Fahrenheit skall samma temperatur i grader Celsius skrivas ut. Använd cellen nedan."
   ]
  },
  {
   "cell_type": "code",
   "execution_count": null,
   "metadata": {
    "collapsed": false
   },
   "outputs": [],
   "source": []
  },
  {
   "cell_type": "markdown",
   "metadata": {
    "collapsed": true
   },
   "source": [
    "## Datatyper"
   ]
  },
  {
   "cell_type": "markdown",
   "metadata": {},
   "source": [
    "En dator lagrar olika värden på olika sätt. Exempelvis lagras heltalet 7 på ett annat sätt än decimaltalet 7.0. Decimaltal kallas för _flyttal_ eftersom den interna representationen av talet \"flyttar på decimaltecknet\", decimaltecknet \"flyter\". Några vanliga datatyper är de som visas i tabellen: \n",
    "\n",
    "|   datatyp\t|   förklaring\t|  namn på engelska |\n",
    "|---\t|---\t|\n",
    "|   `int`\t|   heltal | integer\t|   \n",
    "|   `float`\t|   flyttal | floating point|   \t\n",
    "|   `bool`\t|   kan anta de logiska värdena `True` eller `False` | Boolean\t|   \n",
    "| `str`| textsträng | string |\n",
    "\n",
    "Liksom andra programmeringsspråk räknar Python internt med binära tal. Talet 0.1 har i basen 10 en decimalutveckling med oändligt många nollor, detta är inte fallet då 2 används som bas. Talet en tiondel approximeras binärt av 0.0001100110011001100110011001100110011001100110011... Att Python använder binära tal som sedan avrundas, ger upphov till resultat som kan verka förvånande. Testkör koden i cellen nedan för att se en sådan avrundning."
   ]
  },
  {
   "cell_type": "code",
   "execution_count": null,
   "metadata": {
    "collapsed": false
   },
   "outputs": [],
   "source": [
    "0.1+0.2"
   ]
  },
  {
   "cell_type": "markdown",
   "metadata": {},
   "source": [
    "Textsträngar består av tecken inneslutna av antingen citationstecken (\") eller apostrof ('). Vill man att en textsträng skall innehålla en apostrof kan man välja citationstecken som avdelare, och vice versa. Skall en textsträng innehålla både apostrof och citationstecken kan man inuti strängen skriva ett  omvänt snedstreck (\\\\) framför det tecken som ställer till problem. Ett omvänt snedstreck är en så kallad _escape character_."
   ]
  },
  {
   "cell_type": "code",
   "execution_count": 2,
   "metadata": {
    "collapsed": false
   },
   "outputs": [
    {
     "name": "stdout",
     "output_type": "stream",
     "text": [
      "\"Eureka\" he shouted.\n",
      "When taking a bath, Archimedes discovered what is now known as Archimedes' principle.\n",
      "After discovering Archimedes' principle he shouted \"Eureka\".\n"
     ]
    }
   ],
   "source": [
    "print('\"Eureka\" he shouted.')\n",
    "print(\"When taking a bath, Archimedes discovered what is now known as Archimedes' principle.\")\n",
    "print('After discovering Archimedes\\' principle he shouted \"Eureka\".')"
   ]
  },
  {
   "cell_type": "markdown",
   "metadata": {},
   "source": [
    "I Python tillhör varje värde en datatyp. Till skillnad från vissa andra programmeringsspråk måste du inte i förväg deklarera vilken datatyp en variabel skall vara. Till skillnad från vissa andra programmeringsspråk, kan du låta en variabel byta datatyp. Vill du veta vilken datatyp en variabel är, kan du använda kommandot `type`. "
   ]
  },
  {
   "cell_type": "code",
   "execution_count": 3,
   "metadata": {
    "collapsed": false
   },
   "outputs": [
    {
     "name": "stdout",
     "output_type": "stream",
     "text": [
      "C =  5\n",
      "<class 'int'>\n",
      "C =  3.76\n",
      "<class 'float'>\n",
      "C =  False\n",
      "<class 'bool'>\n",
      "C =  Eureka!\n",
      "<class 'str'>\n"
     ]
    }
   ],
   "source": [
    "C = 5\n",
    "print(\"C = \", C)\n",
    "print(type(C))\n",
    "\n",
    "C = 3.76\n",
    "print(\"C = \", C)\n",
    "print(type(C))\n",
    "\n",
    "C = C == C+1\n",
    "print(\"C = \", C)\n",
    "print(type(C))\n",
    "\n",
    "C = \"Eureka!\"\n",
    "print(\"C = \", C)\n",
    "print(type(C))"
   ]
  },
  {
   "cell_type": "markdown",
   "metadata": {},
   "source": [
    "## Numeriska operatorer"
   ]
  },
  {
   "cell_type": "markdown",
   "metadata": {},
   "source": [
    "Numeriska operatorer verkar på numeriska värden och resultatet är ett numeriskt värde.\n",
    "\n",
    "|operator | förklaring |\n",
    "|:---: |--- |\n",
    "|`+ -  * / `| de fyra räknesätten|\n",
    "|`**` | upphöjt till|\n",
    "| `%` | modulus, resten vid heltalsdivision|\n",
    "| `//` |kvoten vid heltalsdivision|\n",
    "\n",
    "Heltalsdivisionen kan exempelvis användas till \"klockaritmetik\", som i cellen nedan.\n"
   ]
  },
  {
   "cell_type": "code",
   "execution_count": 4,
   "metadata": {
    "collapsed": false
   },
   "outputs": [
    {
     "name": "stdout",
     "output_type": "stream",
     "text": [
      "400 minuter är 2.1166666666666667 timmar.\n",
      "400 minuter är 6 timmar och 40 minuter.\n"
     ]
    }
   ],
   "source": [
    "minuter = 400\n",
    "print(minuter, \"minuter är\", 127/60, \"timmar.\")\n",
    "print(minuter, \"minuter är\", minuter//60, \"timmar och\", minuter%60, \"minuter.\")"
   ]
  },
  {
   "cell_type": "markdown",
   "metadata": {},
   "source": [
    "---\n",
    "\n",
    "### Övning 3\n",
    "\n",
    "Gör ett program som givet ett antal **sekunder** skriver ut hur många **år, dagar, timmar, minuter, sekunder** dessa motsvarar. Inför egna variabler och använd heltalsdivision."
   ]
  },
  {
   "cell_type": "code",
   "execution_count": null,
   "metadata": {
    "collapsed": false
   },
   "outputs": [],
   "source": []
  },
  {
   "cell_type": "markdown",
   "metadata": {},
   "source": [
    "---\n",
    "\n",
    "### Övning 4\n",
    "\n",
    "Enligt konvention har multiplikation och division högre prioritet än addition och subtraktion, detta gäller även i Python. Ta reda på vilken av operationer \"multiplikation\" och \"upphöjt till\" som har högst prioritet i Python. Tips: betrakta exempelvis uttrycken: $ 2^{2\\cdot3}$  och  $2^2\\cdot 3$"
   ]
  },
  {
   "cell_type": "code",
   "execution_count": null,
   "metadata": {
    "collapsed": true
   },
   "outputs": [],
   "source": []
  },
  {
   "cell_type": "markdown",
   "metadata": {},
   "source": [
    "## Jämförelseoperatorer"
   ]
  },
  {
   "cell_type": "markdown",
   "metadata": {},
   "source": [
    "Jämförelseoperator verkar på numeriska värden och resultatet är ett logiskt värde.\n",
    "\n",
    "|operator | förklaring | matematisk motsvarighet |\n",
    "|:---: |--- | :---: |\n",
    "| `<` | mindre än| $\\lt$ |\n",
    "| `>` | större än| $\\gt$ |\n",
    "| `<=` | mindre än eller lika med | $\\leq$ |\n",
    "| `>=` | större än eller lika med | $\\geq$ |\n",
    "| `==` | lika med | $=$ |\n",
    "| `!=` | skilt från | $\\neq$ |"
   ]
  },
  {
   "cell_type": "code",
   "execution_count": 5,
   "metadata": {
    "collapsed": false
   },
   "outputs": [
    {
     "name": "stdout",
     "output_type": "stream",
     "text": [
      "True\n",
      "True\n",
      "False\n",
      "True\n"
     ]
    }
   ],
   "source": [
    "print(7>5)\n",
    "print(7>=7)\n",
    "print(7<5)\n",
    "print(15==3*5)"
   ]
  },
  {
   "cell_type": "markdown",
   "metadata": {},
   "source": [
    "## Logiska operatorer"
   ]
  },
  {
   "cell_type": "markdown",
   "metadata": {},
   "source": [
    "Logiska operatorer verkar på logiska värden och resultatet är ett logiskt värde.\n",
    "\n",
    "|operator | förklaring | matematisk motsvarighet |\n",
    "|:---: |:---: | :---: |\n",
    "| `and` | och | $\\land$ |\n",
    "| `or`| eller | $\\lor$ |\n",
    "| `not` | inte| $\\neg$ |\n",
    "\n",
    "`not`-operatorn är en _unär_ operator, den verkar endast på en operand. De andra operatorerna är _binära_, de verkar på två operander.\n",
    "\n",
    "Låt `p` och `q` vara logiska uttryck, då gäller följande sanningstabell:\n",
    "\n",
    "| `p` | `q` | `p and q` | `p or q` | `not p` |\n",
    "| :----: | :----: | :----: | :----: | :---: |\n",
    "| `True` | `True` | `True` | `True` | `False` |\n",
    "| `True` | `False` | `False` | `True` | `False` |\n",
    "| `False` | `True` | `False` | `True` | `True` |\n",
    "| `False` | `False` | `False` | `False` | `True` |"
   ]
  },
  {
   "cell_type": "code",
   "execution_count": 6,
   "metadata": {
    "collapsed": false
   },
   "outputs": [
    {
     "name": "stdout",
     "output_type": "stream",
     "text": [
      "True\n",
      "False\n",
      "True\n",
      "True\n"
     ]
    }
   ],
   "source": [
    "print(5>3 or 5<3)\n",
    "print(5>3 and 5<3)\n",
    "print(not 5<3)\n",
    "print(5>3 and 5<3 or not 5<3)"
   ]
  },
  {
   "cell_type": "markdown",
   "metadata": {},
   "source": [
    "## Prioritetsordning"
   ]
  },
  {
   "cell_type": "markdown",
   "metadata": {},
   "source": [
    "Här listas operatorerna i stigande prioritetsordning. Operatorer med högre prioritet evalueras före operatorer med lägre prioritet. Du kan ändra den ordning operationerna utförs på genom att använda parenteser.\n",
    "\n",
    "|operator|\n",
    "|:---: |\n",
    "| `or`|\n",
    "| `and`|\n",
    "| `not`|\n",
    "| `<, <=, >, >=, !=, ==`|\n",
    "| `+, -`|\n",
    "| `*, /, //, %`|\n",
    "| `**`|"
   ]
  },
  {
   "cell_type": "code",
   "execution_count": null,
   "metadata": {
    "collapsed": false
   },
   "outputs": [],
   "source": [
    "a = 5 \n",
    "b = 0\n",
    "print (b != 0 and a/b > 1)"
   ]
  },
  {
   "cell_type": "markdown",
   "metadata": {},
   "source": [
    "Operatorer med samma prioritet evalueras från vänster till höger. I cellen ovan gör den första jämförelsen att det logiska uttrycket blir falskt, den andra jämförelsen utförs därför aldrig. Om man byter ordning på jämförelserna, som i cellen nedan, får man ett exekveringsfel. Provkör bägge cellerna!"
   ]
  },
  {
   "cell_type": "code",
   "execution_count": null,
   "metadata": {
    "collapsed": false
   },
   "outputs": [],
   "source": [
    "print (a/b > 1 and b != 0)"
   ]
  },
  {
   "cell_type": "markdown",
   "metadata": {},
   "source": [
    "## Fördefinierade matematiska funktioner"
   ]
  },
  {
   "cell_type": "markdown",
   "metadata": {},
   "source": [
    "De vanligaste matematiska funktionerna är definierade i en Python-modul som heter `math`. Vill du använda en sådan funktion måste du först importera modulen `math`, därefter kan du använda dig av punktnotation med ordet  `math` som prefix. "
   ]
  },
  {
   "cell_type": "code",
   "execution_count": 7,
   "metadata": {
    "collapsed": false
   },
   "outputs": [
    {
     "name": "stdout",
     "output_type": "stream",
     "text": [
      "4.0\n",
      "3.141592653589793\n",
      "1.2246467991473532e-16\n"
     ]
    }
   ],
   "source": [
    "import math\n",
    "print(math.sqrt(16))\n",
    "print(math.pi)\n",
    "print(math.sin(math.pi))"
   ]
  },
  {
   "cell_type": "markdown",
   "metadata": {},
   "source": [
    "Du kan också ange vilka funktioner du vill importera från `math` och på så vis undvika punktnotationen."
   ]
  },
  {
   "cell_type": "code",
   "execution_count": 8,
   "metadata": {
    "collapsed": false
   },
   "outputs": [
    {
     "name": "stdout",
     "output_type": "stream",
     "text": [
      "4.0\n",
      "3.141592653589793\n",
      "1.2246467991473532e-16\n"
     ]
    }
   ],
   "source": [
    "from math import sqrt, pi, sin\n",
    "print(sqrt(16))\n",
    "print(pi)\n",
    "print(sin(pi))"
   ]
  },
  {
   "cell_type": "markdown",
   "metadata": {
    "collapsed": true
   },
   "source": [
    "Vill du importera alla funktioner från `math` skriver du:"
   ]
  },
  {
   "cell_type": "code",
   "execution_count": null,
   "metadata": {
    "collapsed": true
   },
   "outputs": [],
   "source": [
    "from math import *"
   ]
  },
  {
   "cell_type": "markdown",
   "metadata": {},
   "source": [
    "För att se vilka funktioner modulen `math` innehåller kan du använda kommandot `help()` genom att skriva `help(math)`."
   ]
  },
  {
   "cell_type": "markdown",
   "metadata": {},
   "source": [
    "---\n",
    "\n",
    "### Övning 5\n",
    "\n",
    "En andragradsekvation på formen\n",
    "\n",
    "$$x^2+px+q = 0$$\n",
    "\n",
    "kan lösas av den så kallade $pq$-formeln\n",
    "\n",
    "$$ x=-\\frac{p}{2} \\pm \\sqrt{\\left(\\frac{p}{2} \\right)^2-q} $$\n",
    "\n",
    "Låt `x1` och `x2` beteckna lösningarna till ekvationen och fyll i koden nedan så att korrekta lösningar visas."
   ]
  },
  {
   "cell_type": "code",
   "execution_count": null,
   "metadata": {
    "collapsed": false
   },
   "outputs": [],
   "source": [
    "from math import sqrt\n",
    "p = 10\n",
    "q = 5\n",
    "\n",
    "print(\"x1 =\", x1)\n",
    "print(\"x2 =\", x2)"
   ]
  },
  {
   "cell_type": "markdown",
   "metadata": {},
   "source": [
    "Vad händer om `p = 1` och `q = 5`?"
   ]
  },
  {
   "cell_type": "markdown",
   "metadata": {},
   "source": [
    "## Villkorssatser\n",
    "\n",
    "En enkel villkorssats i Python skrivs på föjande sätt:\n",
    "\n",
    "    if villkor:\n",
    "        <block med kod som utförs om det logiska uttrycket \"villkor\" är sant>\n",
    "        \n",
    "Till skillnad från många andra programmeringsspråk, används inte någon sorts parenteser för att avskilja ett block med kod, istället används indentering. All kod som är indenterad efter `if`-raden exekveras om `villkor` är sant. \n",
    "\n",
    "Provkör koden nedan och testa sedan att tilldela `b` värdet 0."
   ]
  },
  {
   "cell_type": "code",
   "execution_count": null,
   "metadata": {
    "collapsed": false
   },
   "outputs": [],
   "source": [
    "a = 5\n",
    "b = 2\n",
    "if b != 0:\n",
    "    print(\"a = \", a)\n",
    "    print(\"b = \", b)\n",
    "    print(\"a/b = \", a/b)\n",
    "print(\"Detta skrivs efter if-satsen\")"
   ]
  },
  {
   "cell_type": "markdown",
   "metadata": {},
   "source": [
    "Ofta vill man utföra olika sorters kod beroende på om ett villkor är sant eller falskt. Då använder man strukturen nedan.\n",
    "\n",
    "    if villkor:\n",
    "        <block med kod som utförs om villkor är sant>\n",
    "    else:\n",
    "        <block med kod som utförs om villkor är falskt>\n",
    "        \n"
   ]
  },
  {
   "cell_type": "code",
   "execution_count": null,
   "metadata": {
    "collapsed": false
   },
   "outputs": [],
   "source": [
    "a = 5\n",
    "if a%2 == 0:\n",
    "    print(\"a är ett jämnt tal.\")\n",
    "else:\n",
    "    print(\"a är ett udda tal.\")"
   ]
  },
  {
   "cell_type": "markdown",
   "metadata": {},
   "source": [
    "Man kan hantera flera förgreningar med hjälp av ordet `elif` vilket är en förkortning av orden _else if_. En if-sats kan innehålla godtyckligt många `elif` men endast ett `else`.\n",
    "\n",
    "    if villkor1:\n",
    "        <block som utförs om villkor1 är sant>\n",
    "    elif villkor2:\n",
    "        <block som utförs om villkor1 är falskt och villkor2 är sant>\n",
    "    elif villkor3:\n",
    "        <block som utförs om villkor1 och villkor2 är falska och villkor3 är sant>\n",
    "    else:\n",
    "        <block som utförs om villkor1, villkor2, och villkor3 är falska>"
   ]
  },
  {
   "cell_type": "markdown",
   "metadata": {},
   "source": [
    "---\n",
    "\n",
    "### Övning 6\n",
    "\n",
    "Om man bara betraktar reella lösningar till en andragradsekvation, kan man få noll, en, eller två lösningar. Antalet lösningar beror på den så kallade _diskriminanten_. Diskriminanten är det uttryck som finns inuti lösningsformelns rotuttryck. \n",
    "\n",
    "Kopiera den kod du skrev i **Övning 5** och inför en variabel som representerar diskriminanten. Modifiera koden genom att lägga till en if-sats så att den ger tre olika sorters utskrifter beroende på antalet lösningar. Använd cellen nedan."
   ]
  },
  {
   "cell_type": "code",
   "execution_count": null,
   "metadata": {
    "collapsed": true
   },
   "outputs": [],
   "source": []
  },
  {
   "cell_type": "markdown",
   "metadata": {},
   "source": [
    "#### Kommentar\n",
    "\n",
    "Python kan även hantera komplexa tal. Den imaginära enheten skrivs som `j`."
   ]
  },
  {
   "cell_type": "code",
   "execution_count": null,
   "metadata": {
    "collapsed": false
   },
   "outputs": [],
   "source": [
    "c = 3+5j\n",
    "d = 2-1j\n",
    "print(c*d)"
   ]
  },
  {
   "cell_type": "markdown",
   "metadata": {},
   "source": [
    "Anledningen till att koden i **Övning 5** ger ett exekveringsfel om man försöker dra roten ur ett negativt tal är att funktionen `sqrt` i modulen `math` bara hanterar reella tal. Det finns en modul kallad `cmath` som hanterar komplexa tal."
   ]
  },
  {
   "cell_type": "code",
   "execution_count": null,
   "metadata": {
    "collapsed": false
   },
   "outputs": [],
   "source": [
    "from cmath import sqrt\n",
    "print(sqrt(4))\n",
    "print(sqrt(-9))"
   ]
  },
  {
   "cell_type": "markdown",
   "metadata": {},
   "source": [
    "Som synes ovan skrivs resultat **alltid** som ett komplext tal när man använder funktioner ur `cmath`. Vill man att det skall returneras ett flyttal om den imaginära delen är noll, kan man använda modulen `numpy.lib.scimath`."
   ]
  },
  {
   "cell_type": "code",
   "execution_count": null,
   "metadata": {
    "collapsed": false
   },
   "outputs": [],
   "source": [
    "from numpy.lib.scimath import sqrt\n",
    "print(sqrt(4))\n",
    "print(sqrt(-9))"
   ]
  },
  {
   "cell_type": "markdown",
   "metadata": {},
   "source": [
    "## Enkla egenhändigt definierade funktioner\n",
    "\n",
    "Du kan definiera en egen funktion med ordet `def`, följt av funktionens namn och ett par parenteser. Den kod som skall utföras då funktionen anropas indenteras. Funktionen kan ta emot parametervärden inneslutna av parenteserna. En funktion som returnerar ett värde kan användas i uttryck."
   ]
  },
  {
   "cell_type": "code",
   "execution_count": null,
   "metadata": {
    "collapsed": false
   },
   "outputs": [],
   "source": [
    "def Fahrenheit(C):\n",
    "    return 9/5*C+32\n",
    "\n",
    "print(Fahrenheit(20))\n",
    "myResult = 10+Fahrenheit(20)\n",
    "print(myResult)"
   ]
  },
  {
   "cell_type": "markdown",
   "metadata": {},
   "source": [
    "En funktion behöver inte returnera ett värde, i sådana fall anropar man funktionen genom att skriva den som i cellen nedan.\n",
    "\n",
    "Variabler som deklareras inuti en funktion är så kallade _lokala_ variabler. "
   ]
  },
  {
   "cell_type": "code",
   "execution_count": null,
   "metadata": {
    "collapsed": false
   },
   "outputs": [],
   "source": [
    "a = 10\n",
    "\n",
    "def myFunction():\n",
    "    a = 5\n",
    "    lokalVariabel = 7\n",
    "    print(\"lokalt är a = \", a)\n",
    "    print(\"lokalVariabel = \", lokalVariabel)\n",
    "    \n",
    "myFunction()\n",
    "print(\"globalt är a = \", a)\n",
    "#Försök att skriva ut variabeln lokalVariabel utanför funktionen ger exekveringsfel"
   ]
  },
  {
   "cell_type": "markdown",
   "metadata": {},
   "source": [
    "---\n",
    "\n",
    "### Övning 7\n",
    "Fyll i koden för funktionen Celsius nedan."
   ]
  },
  {
   "cell_type": "code",
   "execution_count": null,
   "metadata": {
    "collapsed": false
   },
   "outputs": [],
   "source": [
    "def Fahrenheit(C):\n",
    "    return 9/5*C+32\n",
    "\n",
    "def Celsius(F):\n",
    "    #Fyll i kod\n",
    "    \n",
    "C = 40\n",
    "\n",
    "print(Celsius(Fahrenheit(C)))"
   ]
  }
 ],
 "metadata": {
  "kernelspec": {
   "display_name": "Python 3",
   "language": "python",
   "name": "python3"
  },
  "language_info": {
   "codemirror_mode": {
    "name": "ipython",
    "version": 3
   },
   "file_extension": ".py",
   "mimetype": "text/x-python",
   "name": "python",
   "nbconvert_exporter": "python",
   "pygments_lexer": "ipython3",
   "version": "3.4.3"
  },
  "name": "Intro.ipynb"
 },
 "nbformat": 4,
 "nbformat_minor": 0
}
