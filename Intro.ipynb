{
 "cells": [
  {
   "cell_type": "markdown",
   "metadata": {
    "collapsed": false
   },
   "source": [
    "# Introduktion till IPython Notebook och Python"
   ]
  },
  {
   "cell_type": "markdown",
   "metadata": {},
   "source": [
    "Med IPython Notebook kan du kombinera text, formler och programmeringskod för att skapa interaktiva Python övningar. \n",
    "\n",
    "Texten formateras med så kallad Markdown-syntax. En kortversion av hur denna syntax fungerar finns på sidan [Markdown Cheatsheet](https://github.com/adam-p/markdown-here/wiki/Markdown-Cheatsheet).\n",
    "\n",
    "Matematiska formler skrivs med hjälp av LaTeX-syntax. En formel i löpande text (inline) skrivs mellan två \\$-tecken, och visas så här: $f(x) = x^2$. Om man innesluter formeln mellan dubbla \\$-tecken, hamnar den på den egen rad (display) \n",
    "\n",
    "$$\n",
    "f(x)=x^2\n",
    "$$\n",
    "\n",
    "När man skriver en IPython Notebook skriver man i så kallade _celler_. En cell kan antingen vara en Markdown-cell (text och formler) eller en kod-cell. För att formatera en Markdown-cell, eller exekvera koden i en kod-cell, klickar man på shift+enter.\n",
    "\n",
    "Om du dubbelklickar i denna cell kommer du att se den här texten oformaterad. Du kan ändra eller lägga till text. Klicka på shift-enter för att se texten formaterad."
   ]
  },
  {
   "cell_type": "markdown",
   "metadata": {},
   "source": [
    "## Variabler och tilldelningar"
   ]
  },
  {
   "cell_type": "markdown",
   "metadata": {},
   "source": [
    "Om man vill byta temperaturenhet från grader Celsius till Fahrenheit, kan man använda formeln\n",
    "\n",
    "$$\n",
    "F = \\frac{9}{5}C+32\n",
    "$$\n",
    "\n",
    "där $C$ är temperaturen i Celsius och $F$ samma temperatur i Fahrenheit. Dubbelklicka i kod-cellen nedan och ta reda på hur många Fahrenheit $37^\\circ C$ motsvarar. Klicka på shift+enter för att exekvera koden i cellen."
   ]
  },
  {
   "cell_type": "code",
   "execution_count": 1,
   "metadata": {
    "collapsed": false
   },
   "outputs": [
    {
     "name": "stdout",
     "output_type": "stream",
     "text": [
      "68.0\n"
     ]
    }
   ],
   "source": [
    "C = 20\n",
    "F = (9/5)*C +32 \n",
    "print(F)"
   ]
  },
  {
   "cell_type": "markdown",
   "metadata": {},
   "source": [
    "I cellen ovan är C och F så kallade _variabler_. På de två första raderna i cellen ovan _tilldelas_ variablerna värden. Variabler som är definierade i en cell är globala och kan därför användas även i andra celler. När cellen ovan har exekverats, kommer C och F tilldelas värden som de sedan har tills de tilldelas nya värden i en annan cell. Notera att **ett** likhetstecken inte representerar en logisk likhet utan en tilldelning. Logisk likhet skrivs i Python med dubbla likhetstecken, som på rad 3-4 i cellen nedan. \n",
    "\n",
    "Vid en tilldelning beräknas först det som står till höger om likhetstecknet. Den variabel som står till vänster om likhetstecknet tilldelas sedan detta värde. Man kan därför göra en tilldelning som på första raden i cellen nedan. Notera att om likhetstecknet vore en logisk likhet vore det som stod på första raden inte sant."
   ]
  },
  {
   "cell_type": "code",
   "execution_count": 2,
   "metadata": {
    "collapsed": false
   },
   "outputs": [
    {
     "name": "stdout",
     "output_type": "stream",
     "text": [
      "21\n",
      "False\n",
      "True\n"
     ]
    }
   ],
   "source": [
    "C = C+1\n",
    "print(C)\n",
    "print(C == C+1)\n",
    "print(5 == 2+3)"
   ]
  },
  {
   "cell_type": "markdown",
   "metadata": {},
   "source": [
    "Kör koden i cellen ovan upprepade gånger och betrakta värdet på variabeln C."
   ]
  },
  {
   "cell_type": "markdown",
   "metadata": {
    "collapsed": true
   },
   "source": [
    "## Datatyper"
   ]
  },
  {
   "cell_type": "markdown",
   "metadata": {},
   "source": [
    "En dator lagrar olika värden på olika sätt. Exempelvis lagras heltalet 7 på ett annat sätt än decimaltalet 7.0. Decimaltal kallas för _flyttal_ eftersom decimaltecknet kan flyttas - det \"flyter\". Några vanliga datatyper är de som visas i tabellen: \n",
    "\n",
    "|   datatyp\t|   förklaring\t|  namn på engelska |\n",
    "|---\t|---\t|\n",
    "|   `int`\t|   heltal | integer\t|   \n",
    "|   `float`\t|   flyttal | floating point|   \t\n",
    "|   `bool`\t|   kan anta de logiska värdena `True` eller `False` | Boolean\t|   \n",
    "| `str`| textsträng | string |\n",
    "\n",
    "Textsträngar består av tecken inneslutna av antingen citationstecken (\") eller apostrof ('). Vill man att en textsträng skall innehålla en apostrof kan man välja citationstecken som avdelare, och vice versa. Skall en textsträng innehålla både apostrof och citationstecken kan man inuti strängen skriva \\ framför det tecken som ställer till problem. \\ är en så kallad _escape character_."
   ]
  },
  {
   "cell_type": "code",
   "execution_count": 3,
   "metadata": {
    "collapsed": false
   },
   "outputs": [
    {
     "name": "stdout",
     "output_type": "stream",
     "text": [
      "\"Eureka\" he shouted.\n",
      "When taking a bath, Archimedes discovered what is now known as Archimedes' principle.\n",
      "After discovering Archimedes' principle he shouted \"Eureka\".\n"
     ]
    }
   ],
   "source": [
    "print('\"Eureka\" he shouted.')\n",
    "print(\"When taking a bath, Archimedes discovered what is now known as Archimedes' principle.\")\n",
    "print('After discovering Archimedes\\' principle he shouted \"Eureka\".')"
   ]
  },
  {
   "cell_type": "markdown",
   "metadata": {},
   "source": [
    "I Python tillhör varje värde en datatyp. Till skillnad från vissa andra programmeringsspråk måste du inte i förväg deklarera vilken datatyp en variabel skall vara. Till skillnad från vissa andra programmeringsspråk, kan du låta en variabel byta datatyp. Vill du veta vilken datatyp en variabel är, kan du använda kommandot `type`. "
   ]
  },
  {
   "cell_type": "code",
   "execution_count": 4,
   "metadata": {
    "collapsed": false
   },
   "outputs": [
    {
     "name": "stdout",
     "output_type": "stream",
     "text": [
      "C =  5\n",
      "<class 'int'>\n",
      "C =  3.76\n",
      "<class 'float'>\n",
      "C =  True\n",
      "<class 'bool'>\n",
      "C =  Eureka!\n",
      "<class 'str'>\n"
     ]
    }
   ],
   "source": [
    "C = 5\n",
    "print(\"C = \", C)\n",
    "print(type(C))\n",
    "\n",
    "C = 3.76\n",
    "print(\"C = \", C)\n",
    "print(type(C))\n",
    "\n",
    "C = 5 == 2+3\n",
    "print(\"C = \", C)\n",
    "print(type(C))\n",
    "\n",
    "C = \"Eureka!\"\n",
    "print(\"C = \", C)\n",
    "print(type(C))"
   ]
  },
  {
   "cell_type": "markdown",
   "metadata": {},
   "source": [
    "## Operatorer"
   ]
  },
  {
   "cell_type": "markdown",
   "metadata": {},
   "source": [
    "### Numeriska operatorer"
   ]
  },
  {
   "cell_type": "markdown",
   "metadata": {},
   "source": [
    "Numeriska operatorer verkar på numeriska värden och resultatet är ett numeriskt värde.\n",
    "\n",
    "|operator | förklaring |\n",
    "|:---: |--- |\n",
    "|`+ -  * / `| de fyra räknesätten|\n",
    "|`**` | upphöjt till|\n",
    "| `%` | resten vid heltalsdivision|\n",
    "| `//` |kvoten vid heltalsdivision|\n"
   ]
  },
  {
   "cell_type": "code",
   "execution_count": 5,
   "metadata": {
    "collapsed": false
   },
   "outputs": [
    {
     "name": "stdout",
     "output_type": "stream",
     "text": [
      "400 minuter är 2.1166666666666667 timmar.\n",
      "400 minuter är 6 timmar och 40 minuter.\n"
     ]
    }
   ],
   "source": [
    "minuter = 400\n",
    "print(minuter, \"minuter är\", 127/60, \"timmar.\")\n",
    "print(minuter, \"minuter är\", minuter//60, \"timmar och\", minuter%60, \"minuter.\")"
   ]
  },
  {
   "cell_type": "markdown",
   "metadata": {},
   "source": [
    "Ta reda på hur många timmar och minuter 2037 minuter är!"
   ]
  },
  {
   "cell_type": "markdown",
   "metadata": {},
   "source": [
    "### Jämförelseoperatorer"
   ]
  },
  {
   "cell_type": "markdown",
   "metadata": {},
   "source": [
    "Jämförelseoperator verkar på numeriska värden och resultatet är ett logiskt värde.\n",
    "\n",
    "|operator | förklaring | matematisk motsvarighet |\n",
    "|:---: |--- | :---: |\n",
    "| `<` | mindre än| $\\lt$ |\n",
    "| `>` | större än| $\\gt$ |\n",
    "| `<=` | mindre än eller lika med | $\\leq$ |\n",
    "| `>=` | större än eller lika med | $\\geq$ |\n",
    "| `==` | lika med | $=$ |\n",
    "| `!=` | skilt från | $\\neq$ |"
   ]
  },
  {
   "cell_type": "code",
   "execution_count": 6,
   "metadata": {
    "collapsed": false
   },
   "outputs": [
    {
     "name": "stdout",
     "output_type": "stream",
     "text": [
      "True\n",
      "True\n",
      "False\n",
      "True\n"
     ]
    }
   ],
   "source": [
    "print(7>5)\n",
    "print(7>=7)\n",
    "print(7<5)\n",
    "print(15==3*5)"
   ]
  },
  {
   "cell_type": "markdown",
   "metadata": {},
   "source": [
    "### Logiska operatorer"
   ]
  },
  {
   "cell_type": "markdown",
   "metadata": {},
   "source": [
    "Logiska operatorer verkar på logiska värden och resultatet är ett logiskt värde.\n",
    "\n",
    "|operator | förklaring | matematisk motsvarighet |\n",
    "|:---: |:---: | :---: |\n",
    "| `and` | och | $\\land$ |\n",
    "| `or`| eller | $\\lor$ |\n",
    "| `not` | inte| $\\neg$ |\n",
    "\n",
    "`not`-operatorn är en _unär_ operator, den verkar endast på en operand. De andra operatorerna är _binära_, de verkar på två operander.\n",
    "\n",
    "Låt `p` och `q` vara logiska uttryck, då gäller följande sanningstabell:\n",
    "\n",
    "| `p` | `q` | `p and q` | `p or q` | `not p` |\n",
    "| :----: | :----: | :----: | :----: | :---: |\n",
    "| `True` | `True` | `True` | `True` | `False` |\n",
    "| `True` | `False` | `False` | `True` | `False` |\n",
    "| `False` | `True` | `False` | `True` | `True` |\n",
    "| `False` | `False` | `False` | `False` | `True` |"
   ]
  },
  {
   "cell_type": "code",
   "execution_count": 7,
   "metadata": {
    "collapsed": false
   },
   "outputs": [
    {
     "name": "stdout",
     "output_type": "stream",
     "text": [
      "True\n",
      "False\n",
      "True\n",
      "True\n"
     ]
    }
   ],
   "source": [
    "print(5>3 or 5<3)\n",
    "print(5>3 and 5<3)\n",
    "print(not 5<3)\n",
    "print(5>3 and 5<3 or not 5<3)"
   ]
  },
  {
   "cell_type": "markdown",
   "metadata": {},
   "source": [
    "### Prioritetsordning"
   ]
  },
  {
   "cell_type": "markdown",
   "metadata": {},
   "source": [
    "Här listas operatorerna i stigande prioritetsordning. Operatorer med högre prioritet evalueras före operatorer med lägre prioritet. Du kan ändra prioritetsordning genom att använda parenteser.\n",
    "\n",
    "|operator|\n",
    "|:---: |\n",
    "| `or`|\n",
    "| `and`|\n",
    "| `not`|\n",
    "| `<, <=, >, >=, !=, ==`|\n",
    "| `+, -`|\n",
    "| `*, /, //, %`|\n",
    "| `**`|"
   ]
  },
  {
   "cell_type": "code",
   "execution_count": 8,
   "metadata": {
    "collapsed": false
   },
   "outputs": [
    {
     "name": "stdout",
     "output_type": "stream",
     "text": [
      "False\n"
     ]
    }
   ],
   "source": [
    "a = 5 \n",
    "b = 0\n",
    "print (b != 0 and a/b > 1)"
   ]
  },
  {
   "cell_type": "markdown",
   "metadata": {},
   "source": [
    "Operatorer med samma prioritet evalueras från vänster till höger. I cellen ovan gör den första jämförelsen att det logiska uttrycket blir falskt, den andra jämförelsen utförs därför aldrig. Om man byter ordning på jämförelserna, som i cellen nedan, får man ett exekveringsfel."
   ]
  },
  {
   "cell_type": "code",
   "execution_count": 9,
   "metadata": {
    "collapsed": false
   },
   "outputs": [
    {
     "ename": "ZeroDivisionError",
     "evalue": "division by zero",
     "output_type": "error",
     "traceback": [
      "\u001b[1;31m---------------------------------------------------------------------------\u001b[0m",
      "\u001b[1;31mZeroDivisionError\u001b[0m                         Traceback (most recent call last)",
      "\u001b[1;32m<ipython-input-9-f179247a56ac>\u001b[0m in \u001b[0;36m<module>\u001b[1;34m()\u001b[0m\n\u001b[1;32m----> 1\u001b[1;33m \u001b[0mprint\u001b[0m \u001b[1;33m(\u001b[0m\u001b[0ma\u001b[0m\u001b[1;33m/\u001b[0m\u001b[0mb\u001b[0m \u001b[1;33m>\u001b[0m \u001b[1;36m1\u001b[0m \u001b[1;32mand\u001b[0m \u001b[0mb\u001b[0m \u001b[1;33m!=\u001b[0m \u001b[1;36m0\u001b[0m\u001b[1;33m)\u001b[0m\u001b[1;33m\u001b[0m\u001b[0m\n\u001b[0m",
      "\u001b[1;31mZeroDivisionError\u001b[0m: division by zero"
     ]
    }
   ],
   "source": [
    "print (a/b > 1 and b != 0)"
   ]
  },
  {
   "cell_type": "markdown",
   "metadata": {},
   "source": [
    "## Fördefinierade matematiska funktioner"
   ]
  },
  {
   "cell_type": "markdown",
   "metadata": {},
   "source": [
    "De vanligaste matematiska funktionerna är definierade i en Python-modul som heter `math`. Vill man använda en sådan funktion måste man först importera modulen `math`, därefter kan man använda sig av punktnotation med ordet  `math` som prefix. "
   ]
  },
  {
   "cell_type": "code",
   "execution_count": 10,
   "metadata": {
    "collapsed": false
   },
   "outputs": [
    {
     "name": "stdout",
     "output_type": "stream",
     "text": [
      "4.0\n",
      "3.141592653589793\n",
      "1.2246467991473532e-16\n"
     ]
    }
   ],
   "source": [
    "import math\n",
    "print(math.sqrt(16))\n",
    "print(math.pi)\n",
    "print(math.sin(math.pi))"
   ]
  },
  {
   "cell_type": "markdown",
   "metadata": {},
   "source": [
    "Du kan också ange vilka funktioner man vill importera från `math` och på så vis undvika punktnotationen."
   ]
  },
  {
   "cell_type": "code",
   "execution_count": 11,
   "metadata": {
    "collapsed": false
   },
   "outputs": [
    {
     "name": "stdout",
     "output_type": "stream",
     "text": [
      "4.0\n",
      "3.141592653589793\n",
      "1.2246467991473532e-16\n"
     ]
    }
   ],
   "source": [
    "from math import sqrt, pi, sin\n",
    "print(sqrt(16))\n",
    "print(pi)\n",
    "print(sin(pi))"
   ]
  },
  {
   "cell_type": "markdown",
   "metadata": {
    "collapsed": true
   },
   "source": [
    "Vill du ange att du vill importera alla funktioner från `math` skriver du:"
   ]
  },
  {
   "cell_type": "code",
   "execution_count": 25,
   "metadata": {
    "collapsed": true
   },
   "outputs": [],
   "source": [
    "from math import *"
   ]
  },
  {
   "cell_type": "markdown",
   "metadata": {},
   "source": [
    "För att se vilka funktioner modulen `math` innehåller kan du använda kommandot `help()` genom att skriva `help(math)`."
   ]
  },
  {
   "cell_type": "markdown",
   "metadata": {},
   "source": [
    "## Övningar"
   ]
  },
  {
   "cell_type": "code",
   "execution_count": null,
   "metadata": {
    "collapsed": true
   },
   "outputs": [],
   "source": []
  }
 ],
 "metadata": {
  "kernelspec": {
   "display_name": "Python 3",
   "language": "python",
   "name": "python3"
  },
  "language_info": {
   "codemirror_mode": {
    "name": "ipython",
    "version": 3
   },
   "file_extension": ".py",
   "mimetype": "text/x-python",
   "name": "python",
   "nbconvert_exporter": "python",
   "pygments_lexer": "ipython3",
   "version": "3.4.3"
  },
  "name": "Intro.ipynb"
 },
 "nbformat": 4,
 "nbformat_minor": 0
}
