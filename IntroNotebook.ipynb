{
 "cells": [
  {
   "cell_type": "markdown",
   "metadata": {
    "collapsed": false
   },
   "source": [
    "# Introduktion till IPython Notebook"
   ]
  },
  {
   "cell_type": "markdown",
   "metadata": {},
   "source": [
    "Med IPython Notebook kan du kombinera text, formler och programmeringskod för att skapa interaktiva övningar. \n",
    "\n",
    "Texten formateras med så kallad Markdown-syntax. En kortversion av hur denna syntax fungerar finns på sidan [Markdown Cheatsheet](https://github.com/adam-p/markdown-here/wiki/Markdown-Cheatsheet).\n",
    "\n",
    "Matematiska formler skrivs med hjälp av LaTeX-syntax. En formel i löpande text (inline) skrivs mellan två \\$-tecken. Exempelvis kommer koden \\$f(x)=x^2\\$ att formateras så här: $f(x) = x^2$. Om man innesluter formeln mellan dubbla \\$-tecken, hamnar den på den egen rad (display). Exempelvis kommer koden \\$\\$f(x)=x^2\\$\\$ att formateras så här: $$f(x)=x^2$$\n",
    "\n",
    "När man skriver en IPython Notebook skriver man i så kallade celler. En cell kan antingen vara en Markdown-cell (text och formler) eller en kod-cell. För att formatera en Markdown-cell, eller exekvera koden i en kod-cell, klickar man på shift+enter.\n",
    "\n",
    "Om du dubbelklickar i denna cell kommer du att se den här texten oformaterad. Du kan ändra eller lägga till text. Klicka på shift-enter för att se texten formaterad."
   ]
  },
  {
   "cell_type": "code",
   "execution_count": 3,
   "metadata": {
    "collapsed": false
   },
   "outputs": [
    {
     "name": "stdout",
     "output_type": "stream",
     "text": [
      "53\n"
     ]
    }
   ],
   "source": [
    "C = 21\n",
    "F = (9/5)*C +32 \n",
    "print F"
   ]
  },
  {
   "cell_type": "code",
   "execution_count": null,
   "metadata": {
    "collapsed": true
   },
   "outputs": [],
   "source": []
  }
 ],
 "metadata": {
  "kernelspec": {
   "display_name": "Python 2",
   "language": "python",
   "name": "python2"
  },
  "language_info": {
   "codemirror_mode": {
    "name": "ipython",
    "version": 2
   },
   "file_extension": ".py",
   "mimetype": "text/x-python",
   "name": "python",
   "nbconvert_exporter": "python",
   "pygments_lexer": "ipython2",
   "version": "2.7.9"
  },
  "name": "Introduktion till IPython Notebook.ipynb"
 },
 "nbformat": 4,
 "nbformat_minor": 0
}
